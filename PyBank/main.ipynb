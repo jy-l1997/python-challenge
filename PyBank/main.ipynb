{
 "cells": [
  {
   "cell_type": "code",
   "execution_count": 17,
   "id": "b6f5b675",
   "metadata": {},
   "outputs": [],
   "source": [
    "import os\n",
    "import csv"
   ]
  },
  {
   "cell_type": "code",
   "execution_count": 68,
   "id": "398a9705",
   "metadata": {
    "scrolled": true
   },
   "outputs": [
    {
     "name": "stdout",
     "output_type": "stream",
     "text": [
      "Total Months: 86\n",
      "Total: 22564198.0\n",
      "Average Change: 4448.127906976744\n",
      "Greatest Increase in Profits: Aug-16 ($1862002.00)\n",
      "Greatest Decrease in Profits: Feb-14 ($-1825558.00)\n"
     ]
    }
   ],
   "source": [
    "csvpath = os.path.join(\"Resources\", \"budget_data.csv\")\n",
    "\n",
    "with open(csvpath) as csvfile:\n",
    "    csvreader = csv.reader(csvfile,delimiter = \",\")\n",
    "    csv_headers = next(csvreader)\n",
    "\n",
    "    month = 0\n",
    "    net_profit = 0\n",
    "    profit_change = []\n",
    "    prev_profit = 0\n",
    "    total_change = 0\n",
    "    max_change = 0\n",
    "    max_date = \"\"\n",
    "    min_change = 0\n",
    "    min_date = \"\"\n",
    "    \n",
    "    for x in csvreader:\n",
    "        month = month + 1\n",
    "        \n",
    "        profit = float(x[1])\n",
    "        net_profit = net_profit + profit\n",
    "        \n",
    "        change = profit - prev_profit\n",
    "        profit_change.append(change)\n",
    "        \n",
    "        if change > max_change:\n",
    "            max_date = x[0]\n",
    "            max_change = change\n",
    "        elif change < min_change:\n",
    "            min_date = x[0]\n",
    "            min_change = change\n",
    "        \n",
    "        total_change = total_change + change\n",
    "        \n",
    "        prev_profit = profit\n",
    "    \n",
    "    \n",
    "    print(f\"Total Months: {month}\")\n",
    "    print(f\"Total: {net_profit}\")\n",
    "    print(f\"Average Change: {total_change/month}\")\n",
    "    print(f\"Greatest Increase in Profits: {max_date} (${max_change}0)\")\n",
    "    print(f\"Greatest Decrease in Profits: {min_date} (${min_change}0)\")\n",
    "    \n",
    "    csvoutput = os.path.join(\"analysis\", \"analysis.txt\")\n",
    "    \n",
    "    with open(csvoutput,\"a\") as txtfile:\n",
    "        txtfile.write(f\"Total Months: {month}\\n\")\n",
    "        txtfile.write(f\"Total: {net_profit}\\n\")\n",
    "        txtfile.write(f\"Average Change: {total_change/month}\\n\")\n",
    "        txtfile.write(f\"Greatest Increase in Profits: {max_date} (${max_change}0)\\n\")\n",
    "        txtfile.write(f\"Greatest Decrease in Profits: {min_date} (${min_change}0)\\n\")"
   ]
  },
  {
   "cell_type": "code",
   "execution_count": null,
   "id": "9498daac",
   "metadata": {},
   "outputs": [],
   "source": []
  }
 ],
 "metadata": {
  "kernelspec": {
   "display_name": "Python 3 (ipykernel)",
   "language": "python",
   "name": "python3"
  },
  "language_info": {
   "codemirror_mode": {
    "name": "ipython",
    "version": 3
   },
   "file_extension": ".py",
   "mimetype": "text/x-python",
   "name": "python",
   "nbconvert_exporter": "python",
   "pygments_lexer": "ipython3",
   "version": "3.10.9"
  }
 },
 "nbformat": 4,
 "nbformat_minor": 5
}
