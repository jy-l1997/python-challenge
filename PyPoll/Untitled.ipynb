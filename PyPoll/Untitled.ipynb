{
 "cells": [
  {
   "cell_type": "code",
   "execution_count": 1,
   "id": "ff2aa283",
   "metadata": {},
   "outputs": [],
   "source": [
    "import os\n",
    "import csv"
   ]
  },
  {
   "cell_type": "code",
   "execution_count": 91,
   "id": "c73b93e1",
   "metadata": {
    "scrolled": true
   },
   "outputs": [
    {
     "name": "stdout",
     "output_type": "stream",
     "text": [
      "Election Results \n",
      " ----------------------------\n",
      "Total Votes: 369711 \n",
      " ----------------------------\n",
      "Charles Casper Stockham: 5.33% (19723) \n",
      "\n",
      "Diana DeGette: 4.86% (17963) \n",
      "\n",
      "Raymon Anthony Doane: 89.81% (332025) \n",
      "\n",
      "---------------------------- \n",
      " Winner: Raymon Anthony Doane\n"
     ]
    }
   ],
   "source": [
    "csvpath = os.path.join(\"Resources\", \"election_data.csv\")\n",
    "\n",
    "with open(csvpath) as csvfile:\n",
    "    csvreader = csv.reader(csvfile,delimiter = \",\")\n",
    "    csv_headers = next(csvreader)\n",
    "\n",
    "    candidates = []\n",
    "    counter = []\n",
    "    count = 0\n",
    "    votes = 0\n",
    "    \n",
    "    for x in csvreader:\n",
    "        if x[2] not in candidates:\n",
    "            candidates.append(x[2])\n",
    "            counter.append(count)\n",
    "            \n",
    "            votes = votes + count\n",
    "            \n",
    "            count = 1\n",
    "        else:\n",
    "            count = count + 1\n",
    "            \n",
    "    counter.append(count)\n",
    "    votes = votes + count\n",
    "    counter.pop(0)\n",
    "                \n",
    "    print(\"Election Results \\n ----------------------------\")\n",
    "    print(f\"Total Votes: {votes} \\n ----------------------------\")\n",
    "    \n",
    "    max_vote = 0\n",
    "    max_index = 20 # random large number\n",
    "    for x in range(len(candidates)):\n",
    "        print(f\"{candidates[x]}: {round(counter[x]*100/votes,2)}% ({counter[x]}) \\n\")\n",
    "        \n",
    "        if counter[x] > max_vote:\n",
    "            max_vote = counter[x]\n",
    "            max_index = x\n",
    "    \n",
    "    print(f\"---------------------------- \\n Winner: {candidates[max_index]}\")"
   ]
  },
  {
   "cell_type": "code",
   "execution_count": 73,
   "id": "eb4d27a0",
   "metadata": {},
   "outputs": [
    {
     "data": {
      "text/plain": [
       "['Charles Casper Stockham', 'Diana DeGette', 'Raymon Anthony Doane']"
      ]
     },
     "execution_count": 73,
     "metadata": {},
     "output_type": "execute_result"
    }
   ],
   "source": [
    "candidates"
   ]
  },
  {
   "cell_type": "code",
   "execution_count": 88,
   "id": "3858ed7f",
   "metadata": {},
   "outputs": [
    {
     "data": {
      "text/plain": [
       "[0, 19722, 17962, 332024]"
      ]
     },
     "execution_count": 88,
     "metadata": {},
     "output_type": "execute_result"
    }
   ],
   "source": [
    "counter"
   ]
  },
  {
   "cell_type": "code",
   "execution_count": null,
   "id": "fdddd5ff",
   "metadata": {},
   "outputs": [],
   "source": []
  }
 ],
 "metadata": {
  "kernelspec": {
   "display_name": "Python 3 (ipykernel)",
   "language": "python",
   "name": "python3"
  },
  "language_info": {
   "codemirror_mode": {
    "name": "ipython",
    "version": 3
   },
   "file_extension": ".py",
   "mimetype": "text/x-python",
   "name": "python",
   "nbconvert_exporter": "python",
   "pygments_lexer": "ipython3",
   "version": "3.10.9"
  }
 },
 "nbformat": 4,
 "nbformat_minor": 5
}
